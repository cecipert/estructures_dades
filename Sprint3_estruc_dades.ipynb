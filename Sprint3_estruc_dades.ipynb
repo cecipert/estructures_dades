{
 "cells": [
  {
   "cell_type": "markdown",
   "id": "563f9b94",
   "metadata": {},
   "source": [
    "# S03 T01: Estructura de dades"
   ]
  },
  {
   "cell_type": "markdown",
   "id": "82aaf373",
   "metadata": {},
   "source": [
    "## Exercici 1"
   ]
  },
  {
   "cell_type": "code",
   "execution_count": 2,
   "id": "1cc09e3b",
   "metadata": {},
   "outputs": [],
   "source": [
    "t1 = ['Gener', 'Febrer', 'Març']\n",
    "t2 = ['Abril', 'Maig', 'Juny']\n",
    "t3 = ['Juliol', 'Agost', 'Setembre']\n",
    "t4 = ['Octubre', 'Novembre', 'Desembre']"
   ]
  },
  {
   "cell_type": "code",
   "execution_count": 3,
   "id": "5a781ed0",
   "metadata": {},
   "outputs": [
    {
     "name": "stdout",
     "output_type": "stream",
     "text": [
      "[['Gener', 'Febrer', 'Març'], ['Abril', 'Maig', 'Juny'], ['Juliol', 'Agost', 'Setembre'], ['Octubre', 'Novembre', 'Desembre']]\n"
     ]
    }
   ],
   "source": [
    "mesos = [t1, t2, t3, t4]\n",
    "print(mesos)"
   ]
  },
  {
   "cell_type": "markdown",
   "id": "d1a301c5",
   "metadata": {},
   "source": [
    "## Exercici 2"
   ]
  },
  {
   "cell_type": "code",
   "execution_count": 4,
   "id": "8af5dd8c",
   "metadata": {},
   "outputs": [
    {
     "name": "stdout",
     "output_type": "stream",
     "text": [
      "Febrer\n"
     ]
    }
   ],
   "source": [
    "# segundo mes del primer trimestre\n",
    "print(mesos[0][1])"
   ]
  },
  {
   "cell_type": "code",
   "execution_count": 5,
   "id": "a3aba502",
   "metadata": {},
   "outputs": [
    {
     "name": "stdout",
     "output_type": "stream",
     "text": [
      "Gener\n",
      "Febrer\n",
      "Març\n"
     ]
    }
   ],
   "source": [
    "# todos los meses del primer trimestre\n",
    "for m in mesos[0]:\n",
    "    print(m)\n",
    "    "
   ]
  },
  {
   "cell_type": "code",
   "execution_count": 6,
   "id": "dce5bbcf",
   "metadata": {},
   "outputs": [
    {
     "name": "stdout",
     "output_type": "stream",
     "text": [
      "Setembre i Octubre\n"
     ]
    }
   ],
   "source": [
    "# Setembre i octubre\n",
    "print(mesos[2][2] + ' i ' + mesos[3][0])"
   ]
  },
  {
   "cell_type": "markdown",
   "id": "461e7d33",
   "metadata": {},
   "source": [
    "## Exercici 3"
   ]
  },
  {
   "cell_type": "code",
   "execution_count": 7,
   "id": "5223ff88",
   "metadata": {},
   "outputs": [
    {
     "name": "stdout",
     "output_type": "stream",
     "text": [
      "Hay 8 nros en la lista\n"
     ]
    }
   ],
   "source": [
    "# lista de números\n",
    "nros = [4,3,7,1,2,6,3,1]\n",
    "\n",
    "print('Hay', len(nros), 'nros en la lista')"
   ]
  },
  {
   "cell_type": "code",
   "execution_count": 8,
   "id": "7870d458",
   "metadata": {},
   "outputs": [
    {
     "name": "stdout",
     "output_type": "stream",
     "text": [
      "El nro 3 aparece 2 vez / veces\n"
     ]
    }
   ],
   "source": [
    "print('El nro 3 aparece', nros.count(3) , 'vez / veces')"
   ]
  },
  {
   "cell_type": "code",
   "execution_count": 9,
   "id": "3f54e193",
   "metadata": {},
   "outputs": [
    {
     "name": "stdout",
     "output_type": "stream",
     "text": [
      "Los nros 3 y 4 aparecen 3 vez / veces\n"
     ]
    }
   ],
   "source": [
    "print('Los nros 3 y 4 aparecen', nros.count(3) + nros.count(4) , 'vez / veces')"
   ]
  },
  {
   "cell_type": "code",
   "execution_count": 10,
   "id": "44cf4ac1",
   "metadata": {},
   "outputs": [
    {
     "name": "stdout",
     "output_type": "stream",
     "text": [
      "El mayor nro de la lista es: 7\n"
     ]
    }
   ],
   "source": [
    "print('El mayor nro de la lista es:', max(nros))"
   ]
  },
  {
   "cell_type": "code",
   "execution_count": 11,
   "id": "2ae72d64",
   "metadata": {},
   "outputs": [
    {
     "name": "stdout",
     "output_type": "stream",
     "text": [
      "Los tres nros más chicos son: 1 1 2\n"
     ]
    }
   ],
   "source": [
    "nros.sort()\n",
    "print('Los tres nros más chicos son:', nros[0],nros[1],nros[2])"
   ]
  },
  {
   "cell_type": "code",
   "execution_count": 15,
   "id": "3fa12b5b",
   "metadata": {},
   "outputs": [
    {
     "name": "stdout",
     "output_type": "stream",
     "text": [
      "El rango de esta lista es de 0 a 8\n",
      "[1, 1, 2, 3, 3, 4, 6, 7]\n"
     ]
    }
   ],
   "source": [
    "print('El rango de esta lista es de 0 a', len(nros))\n",
    "print(nros[0:len(nros)])"
   ]
  },
  {
   "cell_type": "markdown",
   "id": "82720eaa",
   "metadata": {},
   "source": [
    "## Exercici 4"
   ]
  },
  {
   "cell_type": "code",
   "execution_count": 19,
   "id": "3ebba187",
   "metadata": {},
   "outputs": [
    {
     "name": "stdout",
     "output_type": "stream",
     "text": [
      "{'Pomes': {'Qty': 5, '€': 0.42}, 'Peres': {'Qty': 3, '€': 0.66}, 'Taronjes': {'Qty': 2, '€': 0.25}}\n"
     ]
    }
   ],
   "source": [
    "compra = { \"Pomes\" : {\"Qty\": 5, \"€\": 0.42}, \"Peres\" : {\"Qty\": 3, \"€\": 0.66} }\n",
    "# Agrego las naranjas\n",
    "compra[\"Taronjes\"] = {\"Qty\": 2, \"€\": 0.25}\n",
    "print(compra)"
   ]
  },
  {
   "cell_type": "code",
   "execution_count": 20,
   "id": "2e6ad87e",
   "metadata": {},
   "outputs": [
    {
     "name": "stdout",
     "output_type": "stream",
     "text": [
      "El costo de las peras es: 1.98\n"
     ]
    }
   ],
   "source": [
    "costo_peres = compra[\"Peres\"][\"Qty\"] * compra[\"Peres\"][\"€\"]\n",
    "print('El costo de las peras es:', costo_peres)"
   ]
  },
  {
   "cell_type": "code",
   "execution_count": 66,
   "id": "76a753f2",
   "metadata": {},
   "outputs": [
    {
     "name": "stdout",
     "output_type": "stream",
     "text": [
      "El total de frutas es: 10\n",
      "El total de frutas es: 10\n"
     ]
    }
   ],
   "source": [
    "sumadas = compra['Pomes'][\"Qty\"] + compra['Peres'][\"Qty\"]+ compra['Taronjes'][\"Qty\"]\n",
    "print('El total de frutas es:', sumadas)\n",
    "\n",
    "# otra forma\n",
    "sumadas = 0\n",
    "for f in compra:\n",
    "   sumadas = sumadas + compra[f][\"Qty\"]\n",
    "print('El total de frutas es:', sumadas)\n"
   ]
  },
  {
   "cell_type": "code",
   "execution_count": 67,
   "id": "76e66483",
   "metadata": {},
   "outputs": [
    {
     "name": "stdout",
     "output_type": "stream",
     "text": [
      "La fruta más cara es: Peres\n"
     ]
    }
   ],
   "source": [
    "mas_cara = None\n",
    "valor = 0\n",
    "for f in compra:\n",
    "        if compra[f][\"€\"] > valor:\n",
    "            mas_cara = f\n",
    "            valor = compra[f][\"€\"]\n",
    "print('La fruta más cara es:', mas_cara)\n"
   ]
  }
 ],
 "metadata": {
  "kernelspec": {
   "display_name": "Python 3",
   "language": "python",
   "name": "python3"
  },
  "language_info": {
   "codemirror_mode": {
    "name": "ipython",
    "version": 3
   },
   "file_extension": ".py",
   "mimetype": "text/x-python",
   "name": "python",
   "nbconvert_exporter": "python",
   "pygments_lexer": "ipython3",
   "version": "3.8.8"
  }
 },
 "nbformat": 4,
 "nbformat_minor": 5
}
